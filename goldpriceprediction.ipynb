{
  "cells": [
    {
      "cell_type": "markdown",
      "id": "e358d5a7",
      "metadata": {
        "id": "e358d5a7"
      },
      "source": [
        "# **Internship on \"Full Stack Data Science\" at InfraBIM Techno Solutions Project -33.Gold Price Prediction (Android App Development Project**"
      ]
    },
    {
      "cell_type": "markdown",
      "id": "8161e50e",
      "metadata": {
        "id": "8161e50e"
      },
      "source": [
        "# **Internship Reg. No.:1027**\n",
        "# **Name:S.LAVAN KARTHIK**\n",
        "# **Date:23/03/2023**"
      ]
    },
    {
      "cell_type": "markdown",
      "source": [
        "# **Problem Statement**"
      ],
      "metadata": {
        "id": "3aupDu0ID66N"
      },
      "id": "3aupDu0ID66N"
    },
    {
      "cell_type": "markdown",
      "source": [
        "# The goal of “Gold price prediction” is to forecast gold's price using a variety of Machine learning techniques, considering the relationship between several economic factors that influence gold rates."
      ],
      "metadata": {
        "id": "bGf3zq81E0mz"
      },
      "id": "bGf3zq81E0mz"
    },
    {
      "cell_type": "markdown",
      "source": [
        "# **Tables of Content:**\n",
        "\n",
        "# **1.IMPORTING LIBRARIRES**\n",
        "# **2.LOADIND THE DATA SET**\n",
        "# **3.EXPLORATORY DATA ANALYSIS(EDA)**\n",
        "# **4.Train the data and Model Selection.** \n",
        "# **5.Create the Pickle File.** \n"
      ],
      "metadata": {
        "id": "NDlOhgnFEKs7"
      },
      "id": "NDlOhgnFEKs7"
    },
    {
      "cell_type": "code",
      "source": [
        "# import warnings\n",
        "import warnings\n",
        "warnings.filterwarnings('ignore')"
      ],
      "metadata": {
        "id": "uZflwDoyEy8M"
      },
      "id": "uZflwDoyEy8M",
      "execution_count": null,
      "outputs": []
    },
    {
      "cell_type": "markdown",
      "source": [
        "# **1.IMPORTING LIBRARIRES**"
      ],
      "metadata": {
        "id": "BllN_c9O-Axq"
      },
      "id": "BllN_c9O-Axq"
    },
    {
      "cell_type": "code",
      "execution_count": 2,
      "id": "d081ec5b",
      "metadata": {
        "id": "d081ec5b"
      },
      "outputs": [],
      "source": [
        "\n",
        "import numpy as np\n",
        "import pandas as pd\n",
        "import seaborn as sns\n",
        "import matplotlib.pyplot as plt\n",
        "from sklearn.model_selection import train_test_split\n",
        "from sklearn.ensemble import RandomForestRegressor"
      ]
    },
    {
      "cell_type": "markdown",
      "source": [
        "# **2.LOADIND THE DATA SET**"
      ],
      "metadata": {
        "id": "z-o99CTZ-JIG"
      },
      "id": "z-o99CTZ-JIG"
    },
    {
      "cell_type": "code",
      "execution_count": 3,
      "id": "46b83f4c",
      "metadata": {
        "id": "46b83f4c",
        "outputId": "1590dc5e-b4b3-4d68-e99f-016c6bf79dd2",
        "colab": {
          "base_uri": "https://localhost:8080/",
          "height": 423
        }
      },
      "outputs": [
        {
          "output_type": "execute_result",
          "data": {
            "text/plain": [
              "           Date          SPX         GLD        USO      SLV   EUR/USD\n",
              "0      1/2/2008  1447.160034   84.860001  78.470001  15.1800  1.471692\n",
              "1      1/3/2008  1447.160034   85.570000  78.370003  15.2850  1.474491\n",
              "2      1/4/2008  1411.630005   85.129997  77.309998  15.1670  1.475492\n",
              "3      1/7/2008  1416.180054   84.769997  75.500000  15.0530  1.468299\n",
              "4      1/8/2008  1390.189941   86.779999  76.059998  15.5900  1.557099\n",
              "...         ...          ...         ...        ...      ...       ...\n",
              "2285   5/8/2018  2671.919922  124.589996  14.060000  15.5100  1.186789\n",
              "2286   5/9/2018  2697.790039  124.330002  14.370000  15.5300  1.184722\n",
              "2287  5/10/2018  2723.070068  125.180000  14.410000  15.7400  1.191753\n",
              "2288  5/14/2018  2730.129883  124.489998  14.380000  15.5600  1.193118\n",
              "2289  5/16/2018  2725.780029  122.543800  14.405800  15.4542  1.182033\n",
              "\n",
              "[2290 rows x 6 columns]"
            ],
            "text/html": [
              "\n",
              "  <div id=\"df-76ae9d60-5aec-4131-998b-85ea00cc14e2\">\n",
              "    <div class=\"colab-df-container\">\n",
              "      <div>\n",
              "<style scoped>\n",
              "    .dataframe tbody tr th:only-of-type {\n",
              "        vertical-align: middle;\n",
              "    }\n",
              "\n",
              "    .dataframe tbody tr th {\n",
              "        vertical-align: top;\n",
              "    }\n",
              "\n",
              "    .dataframe thead th {\n",
              "        text-align: right;\n",
              "    }\n",
              "</style>\n",
              "<table border=\"1\" class=\"dataframe\">\n",
              "  <thead>\n",
              "    <tr style=\"text-align: right;\">\n",
              "      <th></th>\n",
              "      <th>Date</th>\n",
              "      <th>SPX</th>\n",
              "      <th>GLD</th>\n",
              "      <th>USO</th>\n",
              "      <th>SLV</th>\n",
              "      <th>EUR/USD</th>\n",
              "    </tr>\n",
              "  </thead>\n",
              "  <tbody>\n",
              "    <tr>\n",
              "      <th>0</th>\n",
              "      <td>1/2/2008</td>\n",
              "      <td>1447.160034</td>\n",
              "      <td>84.860001</td>\n",
              "      <td>78.470001</td>\n",
              "      <td>15.1800</td>\n",
              "      <td>1.471692</td>\n",
              "    </tr>\n",
              "    <tr>\n",
              "      <th>1</th>\n",
              "      <td>1/3/2008</td>\n",
              "      <td>1447.160034</td>\n",
              "      <td>85.570000</td>\n",
              "      <td>78.370003</td>\n",
              "      <td>15.2850</td>\n",
              "      <td>1.474491</td>\n",
              "    </tr>\n",
              "    <tr>\n",
              "      <th>2</th>\n",
              "      <td>1/4/2008</td>\n",
              "      <td>1411.630005</td>\n",
              "      <td>85.129997</td>\n",
              "      <td>77.309998</td>\n",
              "      <td>15.1670</td>\n",
              "      <td>1.475492</td>\n",
              "    </tr>\n",
              "    <tr>\n",
              "      <th>3</th>\n",
              "      <td>1/7/2008</td>\n",
              "      <td>1416.180054</td>\n",
              "      <td>84.769997</td>\n",
              "      <td>75.500000</td>\n",
              "      <td>15.0530</td>\n",
              "      <td>1.468299</td>\n",
              "    </tr>\n",
              "    <tr>\n",
              "      <th>4</th>\n",
              "      <td>1/8/2008</td>\n",
              "      <td>1390.189941</td>\n",
              "      <td>86.779999</td>\n",
              "      <td>76.059998</td>\n",
              "      <td>15.5900</td>\n",
              "      <td>1.557099</td>\n",
              "    </tr>\n",
              "    <tr>\n",
              "      <th>...</th>\n",
              "      <td>...</td>\n",
              "      <td>...</td>\n",
              "      <td>...</td>\n",
              "      <td>...</td>\n",
              "      <td>...</td>\n",
              "      <td>...</td>\n",
              "    </tr>\n",
              "    <tr>\n",
              "      <th>2285</th>\n",
              "      <td>5/8/2018</td>\n",
              "      <td>2671.919922</td>\n",
              "      <td>124.589996</td>\n",
              "      <td>14.060000</td>\n",
              "      <td>15.5100</td>\n",
              "      <td>1.186789</td>\n",
              "    </tr>\n",
              "    <tr>\n",
              "      <th>2286</th>\n",
              "      <td>5/9/2018</td>\n",
              "      <td>2697.790039</td>\n",
              "      <td>124.330002</td>\n",
              "      <td>14.370000</td>\n",
              "      <td>15.5300</td>\n",
              "      <td>1.184722</td>\n",
              "    </tr>\n",
              "    <tr>\n",
              "      <th>2287</th>\n",
              "      <td>5/10/2018</td>\n",
              "      <td>2723.070068</td>\n",
              "      <td>125.180000</td>\n",
              "      <td>14.410000</td>\n",
              "      <td>15.7400</td>\n",
              "      <td>1.191753</td>\n",
              "    </tr>\n",
              "    <tr>\n",
              "      <th>2288</th>\n",
              "      <td>5/14/2018</td>\n",
              "      <td>2730.129883</td>\n",
              "      <td>124.489998</td>\n",
              "      <td>14.380000</td>\n",
              "      <td>15.5600</td>\n",
              "      <td>1.193118</td>\n",
              "    </tr>\n",
              "    <tr>\n",
              "      <th>2289</th>\n",
              "      <td>5/16/2018</td>\n",
              "      <td>2725.780029</td>\n",
              "      <td>122.543800</td>\n",
              "      <td>14.405800</td>\n",
              "      <td>15.4542</td>\n",
              "      <td>1.182033</td>\n",
              "    </tr>\n",
              "  </tbody>\n",
              "</table>\n",
              "<p>2290 rows × 6 columns</p>\n",
              "</div>\n",
              "      <button class=\"colab-df-convert\" onclick=\"convertToInteractive('df-76ae9d60-5aec-4131-998b-85ea00cc14e2')\"\n",
              "              title=\"Convert this dataframe to an interactive table.\"\n",
              "              style=\"display:none;\">\n",
              "        \n",
              "  <svg xmlns=\"http://www.w3.org/2000/svg\" height=\"24px\"viewBox=\"0 0 24 24\"\n",
              "       width=\"24px\">\n",
              "    <path d=\"M0 0h24v24H0V0z\" fill=\"none\"/>\n",
              "    <path d=\"M18.56 5.44l.94 2.06.94-2.06 2.06-.94-2.06-.94-.94-2.06-.94 2.06-2.06.94zm-11 1L8.5 8.5l.94-2.06 2.06-.94-2.06-.94L8.5 2.5l-.94 2.06-2.06.94zm10 10l.94 2.06.94-2.06 2.06-.94-2.06-.94-.94-2.06-.94 2.06-2.06.94z\"/><path d=\"M17.41 7.96l-1.37-1.37c-.4-.4-.92-.59-1.43-.59-.52 0-1.04.2-1.43.59L10.3 9.45l-7.72 7.72c-.78.78-.78 2.05 0 2.83L4 21.41c.39.39.9.59 1.41.59.51 0 1.02-.2 1.41-.59l7.78-7.78 2.81-2.81c.8-.78.8-2.07 0-2.86zM5.41 20L4 18.59l7.72-7.72 1.47 1.35L5.41 20z\"/>\n",
              "  </svg>\n",
              "      </button>\n",
              "      \n",
              "  <style>\n",
              "    .colab-df-container {\n",
              "      display:flex;\n",
              "      flex-wrap:wrap;\n",
              "      gap: 12px;\n",
              "    }\n",
              "\n",
              "    .colab-df-convert {\n",
              "      background-color: #E8F0FE;\n",
              "      border: none;\n",
              "      border-radius: 50%;\n",
              "      cursor: pointer;\n",
              "      display: none;\n",
              "      fill: #1967D2;\n",
              "      height: 32px;\n",
              "      padding: 0 0 0 0;\n",
              "      width: 32px;\n",
              "    }\n",
              "\n",
              "    .colab-df-convert:hover {\n",
              "      background-color: #E2EBFA;\n",
              "      box-shadow: 0px 1px 2px rgba(60, 64, 67, 0.3), 0px 1px 3px 1px rgba(60, 64, 67, 0.15);\n",
              "      fill: #174EA6;\n",
              "    }\n",
              "\n",
              "    [theme=dark] .colab-df-convert {\n",
              "      background-color: #3B4455;\n",
              "      fill: #D2E3FC;\n",
              "    }\n",
              "\n",
              "    [theme=dark] .colab-df-convert:hover {\n",
              "      background-color: #434B5C;\n",
              "      box-shadow: 0px 1px 3px 1px rgba(0, 0, 0, 0.15);\n",
              "      filter: drop-shadow(0px 1px 2px rgba(0, 0, 0, 0.3));\n",
              "      fill: #FFFFFF;\n",
              "    }\n",
              "  </style>\n",
              "\n",
              "      <script>\n",
              "        const buttonEl =\n",
              "          document.querySelector('#df-76ae9d60-5aec-4131-998b-85ea00cc14e2 button.colab-df-convert');\n",
              "        buttonEl.style.display =\n",
              "          google.colab.kernel.accessAllowed ? 'block' : 'none';\n",
              "\n",
              "        async function convertToInteractive(key) {\n",
              "          const element = document.querySelector('#df-76ae9d60-5aec-4131-998b-85ea00cc14e2');\n",
              "          const dataTable =\n",
              "            await google.colab.kernel.invokeFunction('convertToInteractive',\n",
              "                                                     [key], {});\n",
              "          if (!dataTable) return;\n",
              "\n",
              "          const docLinkHtml = 'Like what you see? Visit the ' +\n",
              "            '<a target=\"_blank\" href=https://colab.research.google.com/notebooks/data_table.ipynb>data table notebook</a>'\n",
              "            + ' to learn more about interactive tables.';\n",
              "          element.innerHTML = '';\n",
              "          dataTable['output_type'] = 'display_data';\n",
              "          await google.colab.output.renderOutput(dataTable, element);\n",
              "          const docLink = document.createElement('div');\n",
              "          docLink.innerHTML = docLinkHtml;\n",
              "          element.appendChild(docLink);\n",
              "        }\n",
              "      </script>\n",
              "    </div>\n",
              "  </div>\n",
              "  "
            ]
          },
          "metadata": {},
          "execution_count": 3
        }
      ],
      "source": [
        "\n",
        "df=pd.read_csv(\"https://datalabs-datasets.s3.ap-south-1.amazonaws.com/33_GoldPricePrediction.csv\")\n",
        "df"
      ]
    },
    {
      "cell_type": "markdown",
      "source": [
        "# **3.EXPLORATORY DATA ANALYSIS(EDA)**"
      ],
      "metadata": {
        "id": "bfukklr4-jji"
      },
      "id": "bfukklr4-jji"
    },
    {
      "cell_type": "code",
      "execution_count": 4,
      "id": "cf870b59",
      "metadata": {
        "colab": {
          "base_uri": "https://localhost:8080/"
        },
        "id": "cf870b59",
        "outputId": "f97bf109-b69a-4417-c6a9-89e360f863e1"
      },
      "outputs": [
        {
          "output_type": "execute_result",
          "data": {
            "text/plain": [
              "(2290, 6)"
            ]
          },
          "metadata": {},
          "execution_count": 4
        }
      ],
      "source": [
        "#Size of the \n",
        "df.shape"
      ]
    },
    {
      "cell_type": "code",
      "execution_count": 5,
      "id": "84eecb7a",
      "metadata": {
        "id": "84eecb7a",
        "outputId": "311f639c-9644-4254-eaa0-b8515040d389",
        "colab": {
          "base_uri": "https://localhost:8080/"
        }
      },
      "outputs": [
        {
          "output_type": "stream",
          "name": "stdout",
          "text": [
            "<class 'pandas.core.frame.DataFrame'>\n",
            "RangeIndex: 2290 entries, 0 to 2289\n",
            "Data columns (total 6 columns):\n",
            " #   Column   Non-Null Count  Dtype  \n",
            "---  ------   --------------  -----  \n",
            " 0   Date     2290 non-null   object \n",
            " 1   SPX      2290 non-null   float64\n",
            " 2   GLD      2290 non-null   float64\n",
            " 3   USO      2290 non-null   float64\n",
            " 4   SLV      2290 non-null   float64\n",
            " 5   EUR/USD  2290 non-null   float64\n",
            "dtypes: float64(5), object(1)\n",
            "memory usage: 107.5+ KB\n"
          ]
        }
      ],
      "source": [
        "df.info()"
      ]
    },
    {
      "cell_type": "code",
      "execution_count": 6,
      "id": "c72ce13a",
      "metadata": {
        "id": "c72ce13a",
        "outputId": "cece9ddf-8b24-4d1a-d2aa-297632187899",
        "colab": {
          "base_uri": "https://localhost:8080/"
        }
      },
      "outputs": [
        {
          "output_type": "execute_result",
          "data": {
            "text/plain": [
              "Date       0\n",
              "SPX        0\n",
              "GLD        0\n",
              "USO        0\n",
              "SLV        0\n",
              "EUR/USD    0\n",
              "dtype: int64"
            ]
          },
          "metadata": {},
          "execution_count": 6
        }
      ],
      "source": [
        "#checking the null values\n",
        "df.isnull().sum()"
      ]
    },
    {
      "cell_type": "code",
      "execution_count": 7,
      "id": "106c9d9c",
      "metadata": {
        "id": "106c9d9c",
        "outputId": "af7af965-ffc5-41a0-abc1-a1c421d3e213",
        "colab": {
          "base_uri": "https://localhost:8080/",
          "height": 300
        }
      },
      "outputs": [
        {
          "output_type": "execute_result",
          "data": {
            "text/plain": [
              "               SPX          GLD          USO          SLV      EUR/USD\n",
              "count  2290.000000  2290.000000  2290.000000  2290.000000  2290.000000\n",
              "mean   1654.315776   122.732875    31.842221    20.084997     1.283653\n",
              "std     519.111540    23.283346    19.523517     7.092566     0.131547\n",
              "min     676.530029    70.000000     7.960000     8.850000     1.039047\n",
              "25%    1239.874969   109.725000    14.380000    15.570000     1.171313\n",
              "50%    1551.434998   120.580002    33.869999    17.268500     1.303297\n",
              "75%    2073.010070   132.840004    37.827501    22.882500     1.369971\n",
              "max    2872.870117   184.589996   117.480003    47.259998     1.598798"
            ],
            "text/html": [
              "\n",
              "  <div id=\"df-91f6ccea-9498-4fff-ad41-a37e52b642ef\">\n",
              "    <div class=\"colab-df-container\">\n",
              "      <div>\n",
              "<style scoped>\n",
              "    .dataframe tbody tr th:only-of-type {\n",
              "        vertical-align: middle;\n",
              "    }\n",
              "\n",
              "    .dataframe tbody tr th {\n",
              "        vertical-align: top;\n",
              "    }\n",
              "\n",
              "    .dataframe thead th {\n",
              "        text-align: right;\n",
              "    }\n",
              "</style>\n",
              "<table border=\"1\" class=\"dataframe\">\n",
              "  <thead>\n",
              "    <tr style=\"text-align: right;\">\n",
              "      <th></th>\n",
              "      <th>SPX</th>\n",
              "      <th>GLD</th>\n",
              "      <th>USO</th>\n",
              "      <th>SLV</th>\n",
              "      <th>EUR/USD</th>\n",
              "    </tr>\n",
              "  </thead>\n",
              "  <tbody>\n",
              "    <tr>\n",
              "      <th>count</th>\n",
              "      <td>2290.000000</td>\n",
              "      <td>2290.000000</td>\n",
              "      <td>2290.000000</td>\n",
              "      <td>2290.000000</td>\n",
              "      <td>2290.000000</td>\n",
              "    </tr>\n",
              "    <tr>\n",
              "      <th>mean</th>\n",
              "      <td>1654.315776</td>\n",
              "      <td>122.732875</td>\n",
              "      <td>31.842221</td>\n",
              "      <td>20.084997</td>\n",
              "      <td>1.283653</td>\n",
              "    </tr>\n",
              "    <tr>\n",
              "      <th>std</th>\n",
              "      <td>519.111540</td>\n",
              "      <td>23.283346</td>\n",
              "      <td>19.523517</td>\n",
              "      <td>7.092566</td>\n",
              "      <td>0.131547</td>\n",
              "    </tr>\n",
              "    <tr>\n",
              "      <th>min</th>\n",
              "      <td>676.530029</td>\n",
              "      <td>70.000000</td>\n",
              "      <td>7.960000</td>\n",
              "      <td>8.850000</td>\n",
              "      <td>1.039047</td>\n",
              "    </tr>\n",
              "    <tr>\n",
              "      <th>25%</th>\n",
              "      <td>1239.874969</td>\n",
              "      <td>109.725000</td>\n",
              "      <td>14.380000</td>\n",
              "      <td>15.570000</td>\n",
              "      <td>1.171313</td>\n",
              "    </tr>\n",
              "    <tr>\n",
              "      <th>50%</th>\n",
              "      <td>1551.434998</td>\n",
              "      <td>120.580002</td>\n",
              "      <td>33.869999</td>\n",
              "      <td>17.268500</td>\n",
              "      <td>1.303297</td>\n",
              "    </tr>\n",
              "    <tr>\n",
              "      <th>75%</th>\n",
              "      <td>2073.010070</td>\n",
              "      <td>132.840004</td>\n",
              "      <td>37.827501</td>\n",
              "      <td>22.882500</td>\n",
              "      <td>1.369971</td>\n",
              "    </tr>\n",
              "    <tr>\n",
              "      <th>max</th>\n",
              "      <td>2872.870117</td>\n",
              "      <td>184.589996</td>\n",
              "      <td>117.480003</td>\n",
              "      <td>47.259998</td>\n",
              "      <td>1.598798</td>\n",
              "    </tr>\n",
              "  </tbody>\n",
              "</table>\n",
              "</div>\n",
              "      <button class=\"colab-df-convert\" onclick=\"convertToInteractive('df-91f6ccea-9498-4fff-ad41-a37e52b642ef')\"\n",
              "              title=\"Convert this dataframe to an interactive table.\"\n",
              "              style=\"display:none;\">\n",
              "        \n",
              "  <svg xmlns=\"http://www.w3.org/2000/svg\" height=\"24px\"viewBox=\"0 0 24 24\"\n",
              "       width=\"24px\">\n",
              "    <path d=\"M0 0h24v24H0V0z\" fill=\"none\"/>\n",
              "    <path d=\"M18.56 5.44l.94 2.06.94-2.06 2.06-.94-2.06-.94-.94-2.06-.94 2.06-2.06.94zm-11 1L8.5 8.5l.94-2.06 2.06-.94-2.06-.94L8.5 2.5l-.94 2.06-2.06.94zm10 10l.94 2.06.94-2.06 2.06-.94-2.06-.94-.94-2.06-.94 2.06-2.06.94z\"/><path d=\"M17.41 7.96l-1.37-1.37c-.4-.4-.92-.59-1.43-.59-.52 0-1.04.2-1.43.59L10.3 9.45l-7.72 7.72c-.78.78-.78 2.05 0 2.83L4 21.41c.39.39.9.59 1.41.59.51 0 1.02-.2 1.41-.59l7.78-7.78 2.81-2.81c.8-.78.8-2.07 0-2.86zM5.41 20L4 18.59l7.72-7.72 1.47 1.35L5.41 20z\"/>\n",
              "  </svg>\n",
              "      </button>\n",
              "      \n",
              "  <style>\n",
              "    .colab-df-container {\n",
              "      display:flex;\n",
              "      flex-wrap:wrap;\n",
              "      gap: 12px;\n",
              "    }\n",
              "\n",
              "    .colab-df-convert {\n",
              "      background-color: #E8F0FE;\n",
              "      border: none;\n",
              "      border-radius: 50%;\n",
              "      cursor: pointer;\n",
              "      display: none;\n",
              "      fill: #1967D2;\n",
              "      height: 32px;\n",
              "      padding: 0 0 0 0;\n",
              "      width: 32px;\n",
              "    }\n",
              "\n",
              "    .colab-df-convert:hover {\n",
              "      background-color: #E2EBFA;\n",
              "      box-shadow: 0px 1px 2px rgba(60, 64, 67, 0.3), 0px 1px 3px 1px rgba(60, 64, 67, 0.15);\n",
              "      fill: #174EA6;\n",
              "    }\n",
              "\n",
              "    [theme=dark] .colab-df-convert {\n",
              "      background-color: #3B4455;\n",
              "      fill: #D2E3FC;\n",
              "    }\n",
              "\n",
              "    [theme=dark] .colab-df-convert:hover {\n",
              "      background-color: #434B5C;\n",
              "      box-shadow: 0px 1px 3px 1px rgba(0, 0, 0, 0.15);\n",
              "      filter: drop-shadow(0px 1px 2px rgba(0, 0, 0, 0.3));\n",
              "      fill: #FFFFFF;\n",
              "    }\n",
              "  </style>\n",
              "\n",
              "      <script>\n",
              "        const buttonEl =\n",
              "          document.querySelector('#df-91f6ccea-9498-4fff-ad41-a37e52b642ef button.colab-df-convert');\n",
              "        buttonEl.style.display =\n",
              "          google.colab.kernel.accessAllowed ? 'block' : 'none';\n",
              "\n",
              "        async function convertToInteractive(key) {\n",
              "          const element = document.querySelector('#df-91f6ccea-9498-4fff-ad41-a37e52b642ef');\n",
              "          const dataTable =\n",
              "            await google.colab.kernel.invokeFunction('convertToInteractive',\n",
              "                                                     [key], {});\n",
              "          if (!dataTable) return;\n",
              "\n",
              "          const docLinkHtml = 'Like what you see? Visit the ' +\n",
              "            '<a target=\"_blank\" href=https://colab.research.google.com/notebooks/data_table.ipynb>data table notebook</a>'\n",
              "            + ' to learn more about interactive tables.';\n",
              "          element.innerHTML = '';\n",
              "          dataTable['output_type'] = 'display_data';\n",
              "          await google.colab.output.renderOutput(dataTable, element);\n",
              "          const docLink = document.createElement('div');\n",
              "          docLink.innerHTML = docLinkHtml;\n",
              "          element.appendChild(docLink);\n",
              "        }\n",
              "      </script>\n",
              "    </div>\n",
              "  </div>\n",
              "  "
            ]
          },
          "metadata": {},
          "execution_count": 7
        }
      ],
      "source": [
        "#statistical information\n",
        "df.describe()"
      ]
    },
    {
      "cell_type": "code",
      "execution_count": 8,
      "id": "19d82f29",
      "metadata": {
        "id": "19d82f29",
        "outputId": "7ef05580-35f8-4b24-a0c1-0584f0a323a7",
        "colab": {
          "base_uri": "https://localhost:8080/",
          "height": 206
        }
      },
      "outputs": [
        {
          "output_type": "execute_result",
          "data": {
            "text/plain": [
              "              SPX       GLD       USO       SLV   EUR/USD\n",
              "SPX      1.000000  0.049345 -0.591573 -0.274055 -0.672017\n",
              "GLD      0.049345  1.000000 -0.186360  0.866632 -0.024375\n",
              "USO     -0.591573 -0.186360  1.000000  0.167547  0.829317\n",
              "SLV     -0.274055  0.866632  0.167547  1.000000  0.321631\n",
              "EUR/USD -0.672017 -0.024375  0.829317  0.321631  1.000000"
            ],
            "text/html": [
              "\n",
              "  <div id=\"df-4584dfe5-a78b-4945-b416-cc0f0741752b\">\n",
              "    <div class=\"colab-df-container\">\n",
              "      <div>\n",
              "<style scoped>\n",
              "    .dataframe tbody tr th:only-of-type {\n",
              "        vertical-align: middle;\n",
              "    }\n",
              "\n",
              "    .dataframe tbody tr th {\n",
              "        vertical-align: top;\n",
              "    }\n",
              "\n",
              "    .dataframe thead th {\n",
              "        text-align: right;\n",
              "    }\n",
              "</style>\n",
              "<table border=\"1\" class=\"dataframe\">\n",
              "  <thead>\n",
              "    <tr style=\"text-align: right;\">\n",
              "      <th></th>\n",
              "      <th>SPX</th>\n",
              "      <th>GLD</th>\n",
              "      <th>USO</th>\n",
              "      <th>SLV</th>\n",
              "      <th>EUR/USD</th>\n",
              "    </tr>\n",
              "  </thead>\n",
              "  <tbody>\n",
              "    <tr>\n",
              "      <th>SPX</th>\n",
              "      <td>1.000000</td>\n",
              "      <td>0.049345</td>\n",
              "      <td>-0.591573</td>\n",
              "      <td>-0.274055</td>\n",
              "      <td>-0.672017</td>\n",
              "    </tr>\n",
              "    <tr>\n",
              "      <th>GLD</th>\n",
              "      <td>0.049345</td>\n",
              "      <td>1.000000</td>\n",
              "      <td>-0.186360</td>\n",
              "      <td>0.866632</td>\n",
              "      <td>-0.024375</td>\n",
              "    </tr>\n",
              "    <tr>\n",
              "      <th>USO</th>\n",
              "      <td>-0.591573</td>\n",
              "      <td>-0.186360</td>\n",
              "      <td>1.000000</td>\n",
              "      <td>0.167547</td>\n",
              "      <td>0.829317</td>\n",
              "    </tr>\n",
              "    <tr>\n",
              "      <th>SLV</th>\n",
              "      <td>-0.274055</td>\n",
              "      <td>0.866632</td>\n",
              "      <td>0.167547</td>\n",
              "      <td>1.000000</td>\n",
              "      <td>0.321631</td>\n",
              "    </tr>\n",
              "    <tr>\n",
              "      <th>EUR/USD</th>\n",
              "      <td>-0.672017</td>\n",
              "      <td>-0.024375</td>\n",
              "      <td>0.829317</td>\n",
              "      <td>0.321631</td>\n",
              "      <td>1.000000</td>\n",
              "    </tr>\n",
              "  </tbody>\n",
              "</table>\n",
              "</div>\n",
              "      <button class=\"colab-df-convert\" onclick=\"convertToInteractive('df-4584dfe5-a78b-4945-b416-cc0f0741752b')\"\n",
              "              title=\"Convert this dataframe to an interactive table.\"\n",
              "              style=\"display:none;\">\n",
              "        \n",
              "  <svg xmlns=\"http://www.w3.org/2000/svg\" height=\"24px\"viewBox=\"0 0 24 24\"\n",
              "       width=\"24px\">\n",
              "    <path d=\"M0 0h24v24H0V0z\" fill=\"none\"/>\n",
              "    <path d=\"M18.56 5.44l.94 2.06.94-2.06 2.06-.94-2.06-.94-.94-2.06-.94 2.06-2.06.94zm-11 1L8.5 8.5l.94-2.06 2.06-.94-2.06-.94L8.5 2.5l-.94 2.06-2.06.94zm10 10l.94 2.06.94-2.06 2.06-.94-2.06-.94-.94-2.06-.94 2.06-2.06.94z\"/><path d=\"M17.41 7.96l-1.37-1.37c-.4-.4-.92-.59-1.43-.59-.52 0-1.04.2-1.43.59L10.3 9.45l-7.72 7.72c-.78.78-.78 2.05 0 2.83L4 21.41c.39.39.9.59 1.41.59.51 0 1.02-.2 1.41-.59l7.78-7.78 2.81-2.81c.8-.78.8-2.07 0-2.86zM5.41 20L4 18.59l7.72-7.72 1.47 1.35L5.41 20z\"/>\n",
              "  </svg>\n",
              "      </button>\n",
              "      \n",
              "  <style>\n",
              "    .colab-df-container {\n",
              "      display:flex;\n",
              "      flex-wrap:wrap;\n",
              "      gap: 12px;\n",
              "    }\n",
              "\n",
              "    .colab-df-convert {\n",
              "      background-color: #E8F0FE;\n",
              "      border: none;\n",
              "      border-radius: 50%;\n",
              "      cursor: pointer;\n",
              "      display: none;\n",
              "      fill: #1967D2;\n",
              "      height: 32px;\n",
              "      padding: 0 0 0 0;\n",
              "      width: 32px;\n",
              "    }\n",
              "\n",
              "    .colab-df-convert:hover {\n",
              "      background-color: #E2EBFA;\n",
              "      box-shadow: 0px 1px 2px rgba(60, 64, 67, 0.3), 0px 1px 3px 1px rgba(60, 64, 67, 0.15);\n",
              "      fill: #174EA6;\n",
              "    }\n",
              "\n",
              "    [theme=dark] .colab-df-convert {\n",
              "      background-color: #3B4455;\n",
              "      fill: #D2E3FC;\n",
              "    }\n",
              "\n",
              "    [theme=dark] .colab-df-convert:hover {\n",
              "      background-color: #434B5C;\n",
              "      box-shadow: 0px 1px 3px 1px rgba(0, 0, 0, 0.15);\n",
              "      filter: drop-shadow(0px 1px 2px rgba(0, 0, 0, 0.3));\n",
              "      fill: #FFFFFF;\n",
              "    }\n",
              "  </style>\n",
              "\n",
              "      <script>\n",
              "        const buttonEl =\n",
              "          document.querySelector('#df-4584dfe5-a78b-4945-b416-cc0f0741752b button.colab-df-convert');\n",
              "        buttonEl.style.display =\n",
              "          google.colab.kernel.accessAllowed ? 'block' : 'none';\n",
              "\n",
              "        async function convertToInteractive(key) {\n",
              "          const element = document.querySelector('#df-4584dfe5-a78b-4945-b416-cc0f0741752b');\n",
              "          const dataTable =\n",
              "            await google.colab.kernel.invokeFunction('convertToInteractive',\n",
              "                                                     [key], {});\n",
              "          if (!dataTable) return;\n",
              "\n",
              "          const docLinkHtml = 'Like what you see? Visit the ' +\n",
              "            '<a target=\"_blank\" href=https://colab.research.google.com/notebooks/data_table.ipynb>data table notebook</a>'\n",
              "            + ' to learn more about interactive tables.';\n",
              "          element.innerHTML = '';\n",
              "          dataTable['output_type'] = 'display_data';\n",
              "          await google.colab.output.renderOutput(dataTable, element);\n",
              "          const docLink = document.createElement('div');\n",
              "          docLink.innerHTML = docLinkHtml;\n",
              "          element.appendChild(docLink);\n",
              "        }\n",
              "      </script>\n",
              "    </div>\n",
              "  </div>\n",
              "  "
            ]
          },
          "metadata": {},
          "execution_count": 8
        }
      ],
      "source": [
        "#co-relation \n",
        "corr=df.corr()\n",
        "corr"
      ]
    },
    {
      "cell_type": "code",
      "execution_count": 9,
      "id": "6e2e8b50",
      "metadata": {
        "id": "6e2e8b50",
        "outputId": "05cfb0ee-ab57-41e7-97fb-2e620504ea9a",
        "colab": {
          "base_uri": "https://localhost:8080/",
          "height": 487
        }
      },
      "outputs": [
        {
          "output_type": "execute_result",
          "data": {
            "text/plain": [
              "<Axes: >"
            ]
          },
          "metadata": {},
          "execution_count": 9
        },
        {
          "output_type": "display_data",
          "data": {
            "text/plain": [
              "<Figure size 576x576 with 2 Axes>"
            ],
            "image/png": "[encoded data removed]"
          },
          "metadata": {
            "needs_background": "light"
          }
        }
      ],
      "source": [
        "#heatmap for the correlation\n",
        "plt.figure(figsize = (8,8))\n",
        "sns.heatmap(corr,cbar=True, square=True,fmt='.1f',annot=True,annot_kws={'size':8},cmap='Blues')"
      ]
    },
    {
      "cell_type": "code",
      "execution_count": 10,
      "id": "1806bd5b",
      "metadata": {
        "id": "1806bd5b",
        "outputId": "e349e769-e631-4d85-9540-013c6921ab58",
        "colab": {
          "base_uri": "https://localhost:8080/"
        }
      },
      "outputs": [
        {
          "output_type": "stream",
          "name": "stdout",
          "text": [
            "SPX        0.049345\n",
            "GLD        1.000000\n",
            "USO       -0.186360\n",
            "SLV        0.866632\n",
            "EUR/USD   -0.024375\n",
            "Name: GLD, dtype: float64\n"
          ]
        }
      ],
      "source": [
        "print(corr['GLD'])"
      ]
    },
    {
      "cell_type": "code",
      "execution_count": 11,
      "id": "5d871a35",
      "metadata": {
        "id": "5d871a35",
        "outputId": "ed7cfd92-6082-4530-b367-b1f79598d6a3",
        "colab": {
          "base_uri": "https://localhost:8080/",
          "height": 491
        }
      },
      "outputs": [
        {
          "output_type": "stream",
          "name": "stderr",
          "text": [
            "<ipython-input-11-b59f4ac9eec4>:2: UserWarning: \n",
            "\n",
            "`distplot` is a deprecated function and will be removed in seaborn v0.14.0.\n",
            "\n",
            "Please adapt your code to use either `displot` (a figure-level function with\n",
            "similar flexibility) or `histplot` (an axes-level function for histograms).\n",
            "\n",
            "For a guide to updating your code to use the new functions, please see\n",
            "https://gist.github.com/mwaskom/de44147ed2974457ad6372750bbe5751\n",
            "\n",
            "  sns.distplot(df['GLD'],color='green')\n"
          ]
        },
        {
          "output_type": "execute_result",
          "data": {
            "text/plain": [
              "<Axes: xlabel='GLD', ylabel='Density'>"
            ]
          },
          "metadata": {},
          "execution_count": 11
        },
        {
          "output_type": "display_data",
          "data": {
            "text/plain": [
              "<Figure size 432x288 with 1 Axes>"
            ],
            "image/png": "[encoded data removed]"
          },
          "metadata": {
            "needs_background": "light"
          }
        }
      ],
      "source": [
        "#plotting graph\n",
        "sns.distplot(df['GLD'],color='green')"
      ]
    },
    {
      "cell_type": "markdown",
      "source": [
        "# **Independent and dependent Variables** "
      ],
      "metadata": {
        "id": "63e5wbPKBNKd"
      },
      "id": "63e5wbPKBNKd"
    },
    {
      "cell_type": "code",
      "execution_count": 12,
      "id": "ed664996",
      "metadata": {
        "id": "ed664996"
      },
      "outputs": [],
      "source": [
        "x=df.drop(['Date','GLD'],axis=1)\n",
        "y=df['GLD']"
      ]
    },
    {
      "cell_type": "code",
      "execution_count": 13,
      "id": "81124503",
      "metadata": {
        "id": "81124503",
        "outputId": "e341db3f-b330-40c9-e750-21006c4ae155",
        "colab": {
          "base_uri": "https://localhost:8080/",
          "height": 423
        }
      },
      "outputs": [
        {
          "output_type": "execute_result",
          "data": {
            "text/plain": [
              "              SPX        USO      SLV   EUR/USD\n",
              "0     1447.160034  78.470001  15.1800  1.471692\n",
              "1     1447.160034  78.370003  15.2850  1.474491\n",
              "2     1411.630005  77.309998  15.1670  1.475492\n",
              "3     1416.180054  75.500000  15.0530  1.468299\n",
              "4     1390.189941  76.059998  15.5900  1.557099\n",
              "...           ...        ...      ...       ...\n",
              "2285  2671.919922  14.060000  15.5100  1.186789\n",
              "2286  2697.790039  14.370000  15.5300  1.184722\n",
              "2287  2723.070068  14.410000  15.7400  1.191753\n",
              "2288  2730.129883  14.380000  15.5600  1.193118\n",
              "2289  2725.780029  14.405800  15.4542  1.182033\n",
              "\n",
              "[2290 rows x 4 columns]"
            ],
            "text/html": [
              "\n",
              "  <div id=\"df-2bafce2c-4632-424e-94c1-b6e24e93977c\">\n",
              "    <div class=\"colab-df-container\">\n",
              "      <div>\n",
              "<style scoped>\n",
              "    .dataframe tbody tr th:only-of-type {\n",
              "        vertical-align: middle;\n",
              "    }\n",
              "\n",
              "    .dataframe tbody tr th {\n",
              "        vertical-align: top;\n",
              "    }\n",
              "\n",
              "    .dataframe thead th {\n",
              "        text-align: right;\n",
              "    }\n",
              "</style>\n",
              "<table border=\"1\" class=\"dataframe\">\n",
              "  <thead>\n",
              "    <tr style=\"text-align: right;\">\n",
              "      <th></th>\n",
              "      <th>SPX</th>\n",
              "      <th>USO</th>\n",
              "      <th>SLV</th>\n",
              "      <th>EUR/USD</th>\n",
              "    </tr>\n",
              "  </thead>\n",
              "  <tbody>\n",
              "    <tr>\n",
              "      <th>0</th>\n",
              "      <td>1447.160034</td>\n",
              "      <td>78.470001</td>\n",
              "      <td>15.1800</td>\n",
              "      <td>1.471692</td>\n",
              "    </tr>\n",
              "    <tr>\n",
              "      <th>1</th>\n",
              "      <td>1447.160034</td>\n",
              "      <td>78.370003</td>\n",
              "      <td>15.2850</td>\n",
              "      <td>1.474491</td>\n",
              "    </tr>\n",
              "    <tr>\n",
              "      <th>2</th>\n",
              "      <td>1411.630005</td>\n",
              "      <td>77.309998</td>\n",
              "      <td>15.1670</td>\n",
              "      <td>1.475492</td>\n",
              "    </tr>\n",
              "    <tr>\n",
              "      <th>3</th>\n",
              "      <td>1416.180054</td>\n",
              "      <td>75.500000</td>\n",
              "      <td>15.0530</td>\n",
              "      <td>1.468299</td>\n",
              "    </tr>\n",
              "    <tr>\n",
              "      <th>4</th>\n",
              "      <td>1390.189941</td>\n",
              "      <td>76.059998</td>\n",
              "      <td>15.5900</td>\n",
              "      <td>1.557099</td>\n",
              "    </tr>\n",
              "    <tr>\n",
              "      <th>...</th>\n",
              "      <td>...</td>\n",
              "      <td>...</td>\n",
              "      <td>...</td>\n",
              "      <td>...</td>\n",
              "    </tr>\n",
              "    <tr>\n",
              "      <th>2285</th>\n",
              "      <td>2671.919922</td>\n",
              "      <td>14.060000</td>\n",
              "      <td>15.5100</td>\n",
              "      <td>1.186789</td>\n",
              "    </tr>\n",
              "    <tr>\n",
              "      <th>2286</th>\n",
              "      <td>2697.790039</td>\n",
              "      <td>14.370000</td>\n",
              "      <td>15.5300</td>\n",
              "      <td>1.184722</td>\n",
              "    </tr>\n",
              "    <tr>\n",
              "      <th>2287</th>\n",
              "      <td>2723.070068</td>\n",
              "      <td>14.410000</td>\n",
              "      <td>15.7400</td>\n",
              "      <td>1.191753</td>\n",
              "    </tr>\n",
              "    <tr>\n",
              "      <th>2288</th>\n",
              "      <td>2730.129883</td>\n",
              "      <td>14.380000</td>\n",
              "      <td>15.5600</td>\n",
              "      <td>1.193118</td>\n",
              "    </tr>\n",
              "    <tr>\n",
              "      <th>2289</th>\n",
              "      <td>2725.780029</td>\n",
              "      <td>14.405800</td>\n",
              "      <td>15.4542</td>\n",
              "      <td>1.182033</td>\n",
              "    </tr>\n",
              "  </tbody>\n",
              "</table>\n",
              "<p>2290 rows × 4 columns</p>\n",
              "</div>\n",
              "      <button class=\"colab-df-convert\" onclick=\"convertToInteractive('df-2bafce2c-4632-424e-94c1-b6e24e93977c')\"\n",
              "              title=\"Convert this dataframe to an interactive table.\"\n",
              "              style=\"display:none;\">\n",
              "        \n",
              "  <svg xmlns=\"http://www.w3.org/2000/svg\" height=\"24px\"viewBox=\"0 0 24 24\"\n",
              "       width=\"24px\">\n",
              "    <path d=\"M0 0h24v24H0V0z\" fill=\"none\"/>\n",
              "    <path d=\"M18.56 5.44l.94 2.06.94-2.06 2.06-.94-2.06-.94-.94-2.06-.94 2.06-2.06.94zm-11 1L8.5 8.5l.94-2.06 2.06-.94-2.06-.94L8.5 2.5l-.94 2.06-2.06.94zm10 10l.94 2.06.94-2.06 2.06-.94-2.06-.94-.94-2.06-.94 2.06-2.06.94z\"/><path d=\"M17.41 7.96l-1.37-1.37c-.4-.4-.92-.59-1.43-.59-.52 0-1.04.2-1.43.59L10.3 9.45l-7.72 7.72c-.78.78-.78 2.05 0 2.83L4 21.41c.39.39.9.59 1.41.59.51 0 1.02-.2 1.41-.59l7.78-7.78 2.81-2.81c.8-.78.8-2.07 0-2.86zM5.41 20L4 18.59l7.72-7.72 1.47 1.35L5.41 20z\"/>\n",
              "  </svg>\n",
              "      </button>\n",
              "      \n",
              "  <style>\n",
              "    .colab-df-container {\n",
              "      display:flex;\n",
              "      flex-wrap:wrap;\n",
              "      gap: 12px;\n",
              "    }\n",
              "\n",
              "    .colab-df-convert {\n",
              "      background-color: #E8F0FE;\n",
              "      border: none;\n",
              "      border-radius: 50%;\n",
              "      cursor: pointer;\n",
              "      display: none;\n",
              "      fill: #1967D2;\n",
              "      height: 32px;\n",
              "      padding: 0 0 0 0;\n",
              "      width: 32px;\n",
              "    }\n",
              "\n",
              "    .colab-df-convert:hover {\n",
              "      background-color: #E2EBFA;\n",
              "      box-shadow: 0px 1px 2px rgba(60, 64, 67, 0.3), 0px 1px 3px 1px rgba(60, 64, 67, 0.15);\n",
              "      fill: #174EA6;\n",
              "    }\n",
              "\n",
              "    [theme=dark] .colab-df-convert {\n",
              "      background-color: #3B4455;\n",
              "      fill: #D2E3FC;\n",
              "    }\n",
              "\n",
              "    [theme=dark] .colab-df-convert:hover {\n",
              "      background-color: #434B5C;\n",
              "      box-shadow: 0px 1px 3px 1px rgba(0, 0, 0, 0.15);\n",
              "      filter: drop-shadow(0px 1px 2px rgba(0, 0, 0, 0.3));\n",
              "      fill: #FFFFFF;\n",
              "    }\n",
              "  </style>\n",
              "\n",
              "      <script>\n",
              "        const buttonEl =\n",
              "          document.querySelector('#df-2bafce2c-4632-424e-94c1-b6e24e93977c button.colab-df-convert');\n",
              "        buttonEl.style.display =\n",
              "          google.colab.kernel.accessAllowed ? 'block' : 'none';\n",
              "\n",
              "        async function convertToInteractive(key) {\n",
              "          const element = document.querySelector('#df-2bafce2c-4632-424e-94c1-b6e24e93977c');\n",
              "          const dataTable =\n",
              "            await google.colab.kernel.invokeFunction('convertToInteractive',\n",
              "                                                     [key], {});\n",
              "          if (!dataTable) return;\n",
              "\n",
              "          const docLinkHtml = 'Like what you see? Visit the ' +\n",
              "            '<a target=\"_blank\" href=https://colab.research.google.com/notebooks/data_table.ipynb>data table notebook</a>'\n",
              "            + ' to learn more about interactive tables.';\n",
              "          element.innerHTML = '';\n",
              "          dataTable['output_type'] = 'display_data';\n",
              "          await google.colab.output.renderOutput(dataTable, element);\n",
              "          const docLink = document.createElement('div');\n",
              "          docLink.innerHTML = docLinkHtml;\n",
              "          element.appendChild(docLink);\n",
              "        }\n",
              "      </script>\n",
              "    </div>\n",
              "  </div>\n",
              "  "
            ]
          },
          "metadata": {},
          "execution_count": 13
        }
      ],
      "source": [
        "x\n",
        "#y"
      ]
    },
    {
      "cell_type": "markdown",
      "source": [
        "# **4.Train the data and Model Selection.** "
      ],
      "metadata": {
        "id": "SUjdr0w8CeeR"
      },
      "id": "SUjdr0w8CeeR"
    },
    {
      "cell_type": "code",
      "execution_count": 15,
      "id": "becf2112",
      "metadata": {
        "id": "becf2112"
      },
      "outputs": [],
      "source": [
        "from sklearn.model_selection import train_test_split\n",
        "x_train,x_test,y_train,y_test=train_test_split(x,y,test_size=0.2,random_state=2)"
      ]
    },
    {
      "cell_type": "code",
      "execution_count": 16,
      "id": "79d4e361",
      "metadata": {
        "id": "79d4e361",
        "outputId": "7d0789ab-6b1a-48d3-a1a7-da562c0581b1",
        "colab": {
          "base_uri": "https://localhost:8080/",
          "height": 74
        }
      },
      "outputs": [
        {
          "output_type": "execute_result",
          "data": {
            "text/plain": [
              "RandomForestRegressor()"
            ],
            "text/html": [
              "<style>#sk-container-id-1 {color: black;background-color: white;}#sk-container-id-1 pre{padding: 0;}#sk-container-id-1 div.sk-toggleable {background-color: white;}#sk-container-id-1 label.sk-toggleable__label {cursor: pointer;display: block;width: 100%;margin-bottom: 0;padding: 0.3em;box-sizing: border-box;text-align: center;}#sk-container-id-1 label.sk-toggleable__label-arrow:before {content: \"▸\";float: left;margin-right: 0.25em;color: #696969;}#sk-container-id-1 label.sk-toggleable__label-arrow:hover:before {color: black;}#sk-container-id-1 div.sk-estimator:hover label.sk-toggleable__label-arrow:before {color: black;}#sk-container-id-1 div.sk-toggleable__content {max-height: 0;max-width: 0;overflow: hidden;text-align: left;background-color: #f0f8ff;}#sk-container-id-1 div.sk-toggleable__content pre {margin: 0.2em;color: black;border-radius: 0.25em;background-color: #f0f8ff;}#sk-container-id-1 input.sk-toggleable__control:checked~div.sk-toggleable__content {max-height: 200px;max-width: 100%;overflow: auto;}#sk-container-id-1 input.sk-toggleable__control:checked~label.sk-toggleable__label-arrow:before {content: \"▾\";}#sk-container-id-1 div.sk-estimator input.sk-toggleable__control:checked~label.sk-toggleable__label {background-color: #d4ebff;}#sk-container-id-1 div.sk-label input.sk-toggleable__control:checked~label.sk-toggleable__label {background-color: #d4ebff;}#sk-container-id-1 input.sk-hidden--visually {border: 0;clip: rect(1px 1px 1px 1px);clip: rect(1px, 1px, 1px, 1px);height: 1px;margin: -1px;overflow: hidden;padding: 0;position: absolute;width: 1px;}#sk-container-id-1 div.sk-estimator {font-family: monospace;background-color: #f0f8ff;border: 1px dotted black;border-radius: 0.25em;box-sizing: border-box;margin-bottom: 0.5em;}#sk-container-id-1 div.sk-estimator:hover {background-color: #d4ebff;}#sk-container-id-1 div.sk-parallel-item::after {content: \"\";width: 100%;border-bottom: 1px solid gray;flex-grow: 1;}#sk-container-id-1 div.sk-label:hover label.sk-toggleable__label {background-color: #d4ebff;}#sk-container-id-1 div.sk-serial::before {content: \"\";position: absolute;border-left: 1px solid gray;box-sizing: border-box;top: 0;bottom: 0;left: 50%;z-index: 0;}#sk-container-id-1 div.sk-serial {display: flex;flex-direction: column;align-items: center;background-color: white;padding-right: 0.2em;padding-left: 0.2em;position: relative;}#sk-container-id-1 div.sk-item {position: relative;z-index: 1;}#sk-container-id-1 div.sk-parallel {display: flex;align-items: stretch;justify-content: center;background-color: white;position: relative;}#sk-container-id-1 div.sk-item::before, #sk-container-id-1 div.sk-parallel-item::before {content: \"\";position: absolute;border-left: 1px solid gray;box-sizing: border-box;top: 0;bottom: 0;left: 50%;z-index: -1;}#sk-container-id-1 div.sk-parallel-item {display: flex;flex-direction: column;z-index: 1;position: relative;background-color: white;}#sk-container-id-1 div.sk-parallel-item:first-child::after {align-self: flex-end;width: 50%;}#sk-container-id-1 div.sk-parallel-item:last-child::after {align-self: flex-start;width: 50%;}#sk-container-id-1 div.sk-parallel-item:only-child::after {width: 0;}#sk-container-id-1 div.sk-dashed-wrapped {border: 1px dashed gray;margin: 0 0.4em 0.5em 0.4em;box-sizing: border-box;padding-bottom: 0.4em;background-color: white;}#sk-container-id-1 div.sk-label label {font-family: monospace;font-weight: bold;display: inline-block;line-height: 1.2em;}#sk-container-id-1 div.sk-label-container {text-align: center;}#sk-container-id-1 div.sk-container {/* jupyter's `normalize.less` sets `[hidden] { display: none; }` but bootstrap.min.css set `[hidden] { display: none !important; }` so we also need the `!important` here to be able to override the default hidden behavior on the sphinx rendered scikit-learn.org. See: https://github.com/scikit-learn/scikit-learn/issues/21755 */display: inline-block !important;position: relative;}#sk-container-id-1 div.sk-text-repr-fallback {display: none;}</style><div id=\"sk-container-id-1\" class=\"sk-top-container\"><div class=\"sk-text-repr-fallback\"><pre>RandomForestRegressor()</pre><b>In a Jupyter environment, please rerun this cell to show the HTML representation or trust the notebook. <br />On GitHub, the HTML representation is unable to render, please try loading this page with nbviewer.org.</b></div><div class=\"sk-container\" hidden><div class=\"sk-item\"><div class=\"sk-estimator sk-toggleable\"><input class=\"sk-toggleable__control sk-hidden--visually\" id=\"sk-estimator-id-1\" type=\"checkbox\" checked><label for=\"sk-estimator-id-1\" class=\"sk-toggleable__label sk-toggleable__label-arrow\">RandomForestRegressor</label><div class=\"sk-toggleable__content\"><pre>RandomForestRegressor()</pre></div></div></div></div></div>"
            ]
          },
          "metadata": {},
          "execution_count": 16
        }
      ],
      "source": [
        "rgr= RandomForestRegressor(n_estimators=100)\n",
        "rgr.fit(x_train,y_train)"
      ]
    },
    {
      "cell_type": "code",
      "execution_count": 18,
      "id": "06a0204e",
      "metadata": {
        "id": "06a0204e",
        "outputId": "a185df5b-b623-4aea-deb9-9a4963dfb3a5",
        "colab": {
          "base_uri": "https://localhost:8080/"
        }
      },
      "outputs": [
        {
          "output_type": "execute_result",
          "data": {
            "text/plain": [
              "array([168.56289922,  81.98499975, 116.0870998 , 127.65800089,\n",
              "       120.72190111, 154.49869764, 150.42029825, 126.29070041,\n",
              "       117.52329882, 126.08720051, 116.78500083, 171.69150083,\n",
              "       141.12459798, 167.70609857, 115.02460027, 117.6523006 ,\n",
              "       139.60030275, 170.1989008 , 159.59160286, 159.42429905,\n",
              "       155.16969961, 125.27560014, 175.07010022, 157.22580386,\n",
              "       125.09430079,  93.67249962,  77.55090019, 120.44980019,\n",
              "       119.16379951, 167.49239986,  88.28310051, 125.31510003,\n",
              "        91.14370083, 117.84370021, 121.10249908, 136.32420093,\n",
              "       115.530201  , 115.14360067, 147.42889999, 107.28350093,\n",
              "       104.31630254,  87.21829793, 126.56400007, 117.76950003,\n",
              "       154.6385991 , 119.8996001 , 108.34269993, 107.97709816,\n",
              "        93.19900034, 127.07899811,  74.5920004 , 113.60639918,\n",
              "       121.31240009, 111.25159925, 118.79289883, 120.6101996 ,\n",
              "       159.07790061, 169.5445012 , 147.19809676,  85.89499841,\n",
              "        94.37160032,  86.83849876,  90.58660032, 119.0588007 ,\n",
              "       126.44890056, 127.76900027, 168.74320017, 122.37749935,\n",
              "       117.57519888,  98.66340037, 167.97480243, 142.91809851,\n",
              "       131.85300241, 121.23310217, 121.19209954, 119.93890068,\n",
              "       114.48710147, 118.35990045, 107.40010085, 128.00920037,\n",
              "       114.06629984, 107.26889971, 116.6811006 , 119.58139887,\n",
              "        89.06990054,  88.26599857, 145.65860194, 127.17639997,\n",
              "       113.74110051, 110.3048981 , 108.28849875,  77.66909918,\n",
              "       169.82670239, 113.94919911, 121.59059906, 127.82740168,\n",
              "       155.03509828,  91.8413997 , 135.89160055, 159.11020337,\n",
              "       125.35580035, 125.33660024, 130.46880143, 114.73420102,\n",
              "       119.9572001 ,  92.06069996, 110.45679893, 167.58159955,\n",
              "       158.26209932, 114.10949921, 106.67020124,  79.25579986,\n",
              "       113.40390035, 125.90050105, 107.48189927, 119.55530121,\n",
              "       155.63630338, 159.1963991 , 120.12130005, 134.47870248,\n",
              "       101.40879984, 117.50699804, 119.4093004 , 113.09370097,\n",
              "       102.74559878, 160.00409732,  98.48780046, 147.84509907,\n",
              "       125.49690074, 169.58869892, 126.10959876, 127.32659734,\n",
              "       127.3319013 , 113.68229938, 113.0791007 , 123.79929913,\n",
              "       102.16189904,  89.1693996 , 124.31929955, 101.13689928,\n",
              "       107.10919912, 113.54340087, 117.33520069,  99.00709962,\n",
              "       121.79480028, 163.5271994 ,  87.30409867, 106.60059957,\n",
              "       117.06040103, 127.83110112, 124.02610066,  80.59849918,\n",
              "       120.25280067, 157.53719838,  87.99339934, 110.16119964,\n",
              "       119.06659911, 172.38259834, 103.03339898, 105.77530053,\n",
              "       122.65380027, 157.7819983 ,  87.69039829,  93.02920028,\n",
              "       113.35480045, 176.55830022, 114.44469981, 119.37650042,\n",
              "        95.00480103, 125.87609997, 166.5153019 , 114.67060028,\n",
              "       116.66550154,  88.28839851, 148.87890136, 120.40929922,\n",
              "        89.37079988, 111.9946006 , 117.03540028, 118.87990116,\n",
              "        88.21629939,  94.30649982, 116.93519995, 118.45820187,\n",
              "       120.25439992, 126.76159822, 121.9336998 , 149.95209994,\n",
              "       165.21200013, 118.56929959, 120.34640122, 151.232901  ,\n",
              "       118.46689915, 172.67689902, 105.0311995 , 104.96580103,\n",
              "       149.41730133, 113.39080063, 124.80910117, 147.48889956,\n",
              "       119.70780102, 115.35960082, 112.13300034, 113.44870197,\n",
              "       141.26700188, 117.93509771, 102.93210067, 115.79430086,\n",
              "       103.70010202,  98.58580046, 117.61320055,  90.61720018,\n",
              "        91.68430019, 153.80479848, 102.75039963, 154.78800092,\n",
              "       114.45920158, 138.65910102,  90.06739792, 115.51939959,\n",
              "       115.03909991, 122.92379988, 121.63190039, 165.2398016 ,\n",
              "        92.95149921, 135.36240191, 121.40349905, 120.84490103,\n",
              "       104.54380003, 142.38970284, 121.79949916, 116.72410049,\n",
              "       113.47850055, 127.35659731, 122.56339951, 125.82039931,\n",
              "       121.21080037,  86.85479906, 133.16730125, 144.12090226,\n",
              "        92.68269934, 158.65299948, 159.35960247, 126.52709866,\n",
              "       164.82809935, 108.70019928, 110.52500086, 103.58919821,\n",
              "        94.40830087, 127.02750202, 107.18930069, 162.01310003,\n",
              "       121.85599999, 132.00190002, 130.46420107, 160.09170053,\n",
              "        90.09879812, 174.29930168, 127.56770023, 126.73259906,\n",
              "        86.30879928, 124.44359922, 150.13479747,  89.61060018,\n",
              "       106.81509975, 109.10139966,  83.76919876, 136.18090068,\n",
              "       155.24890231, 139.11370366,  73.77690041, 151.89710162,\n",
              "       125.95639967, 126.79519985, 127.43529882, 108.6941993 ,\n",
              "       156.20669976, 114.46380126, 116.95370141, 125.36849999,\n",
              "       154.05060086, 121.32970002, 156.4117986 ,  93.03480098,\n",
              "       125.55880138, 125.89579987,  88.00850068,  92.09299927,\n",
              "       126.47109895, 128.47580408, 113.10500078, 117.63109736,\n",
              "       120.99829994, 127.44959757, 119.96940096, 136.58710085,\n",
              "        94.03179891, 119.67670051, 113.44690088,  94.24249948,\n",
              "       108.96519956,  86.95679907, 108.91909958,  89.34299983,\n",
              "        92.29879998, 131.42520295, 162.27189992,  89.53360031,\n",
              "       119.52890095, 133.4127022 , 123.79619971, 128.40430199,\n",
              "       101.91279837,  89.05889896, 131.78910047, 120.03560038,\n",
              "       108.57659979, 168.48210143, 115.32900076,  86.59309924,\n",
              "       118.93410034,  91.06549988, 161.89980104, 116.61210043,\n",
              "       121.52439991, 160.01019716, 120.06599942, 112.80029926,\n",
              "       108.46399869, 126.69460004,  76.28990018, 102.97799979,\n",
              "       126.94600234, 121.91919918,  92.5985    , 132.02870016,\n",
              "       118.41220129, 116.24080002, 154.43770254, 159.51170088,\n",
              "       110.21749942, 154.92159781, 119.2607009 , 160.35060075,\n",
              "       118.51360062, 158.91150015, 115.18899923, 116.64670017,\n",
              "       150.12989945, 114.94710057, 125.72299861, 166.28399888,\n",
              "       117.64740013, 125.10299927, 153.20980361, 153.60170143,\n",
              "       132.31189986, 114.97260039, 121.35940184, 124.73500065,\n",
              "        89.81770052, 123.23339994, 154.76270155, 111.82600043,\n",
              "       106.58129975, 161.70960151, 118.42969991, 165.70960018,\n",
              "       134.43820076, 115.1605998 , 152.90199805, 168.59549958,\n",
              "       114.44379986, 114.225801  , 157.85369875,  85.24369899,\n",
              "       127.05820086, 127.98050026, 128.84979976, 124.30250049,\n",
              "       123.89490062,  90.69920106, 153.26129954,  97.17789967,\n",
              "       136.75529971,  88.99519919, 107.21049975, 115.0608006 ,\n",
              "       112.62500072, 124.12149927,  91.37589898, 125.34270151,\n",
              "       162.47909756, 119.87709904, 165.04430053, 126.94519771,\n",
              "       112.45969996, 127.51419914,  95.2386998 ,  90.89650047,\n",
              "       102.54409877, 120.86379996,  83.06929927, 126.47010006,\n",
              "       160.26120421, 117.26110076, 118.12140011, 119.82179975,\n",
              "       122.8490995 , 119.92750121, 121.53790018, 118.21760063,\n",
              "       107.05900011, 148.19189964, 126.32959854, 115.83040114,\n",
              "        73.84210021, 127.88260128, 154.71160104, 122.8938003 ,\n",
              "       125.61190094,  88.77820036, 104.27809887, 125.05310048,\n",
              "       120.28420023,  73.19390086, 151.60239943, 121.28520028,\n",
              "       104.69990009,  86.43679802, 115.11419882, 172.2527985 ,\n",
              "       119.74020043, 161.07039809, 113.18879932, 121.03900016,\n",
              "       118.45700126,  96.01829975, 118.90030043, 125.91090052,\n",
              "       118.4364997 ,  96.23290085, 153.65720203, 122.00060008,\n",
              "       147.5087002 , 159.69460229, 113.71880021, 122.52269947,\n",
              "       148.45229876, 127.06760048, 165.73090017, 136.118801  ,\n",
              "       119.92159943, 167.39049869, 108.36009889, 121.75989865,\n",
              "       139.61070196, 106.07949861])"
            ]
          },
          "metadata": {},
          "execution_count": 18
        }
      ],
      "source": [
        "#predicting the values for the x_test)\n",
        "rgr.predict(x_test)"
      ]
    },
    {
      "cell_type": "code",
      "execution_count": 19,
      "id": "7200554e",
      "metadata": {
        "id": "7200554e",
        "outputId": "e94741d7-7213-4736-cbbb-f5654b7eb162",
        "colab": {
          "base_uri": "https://localhost:8080/"
        }
      },
      "outputs": [
        {
          "output_type": "execute_result",
          "data": {
            "text/plain": [
              "0.9891908528154136"
            ]
          },
          "metadata": {},
          "execution_count": 19
        }
      ],
      "source": [
        "#accuracy score\n",
        "rgr.score(x_test,y_test)"
      ]
    },
    {
      "cell_type": "code",
      "execution_count": 20,
      "id": "34cc670c",
      "metadata": {
        "id": "34cc670c",
        "outputId": "5147afa5-3fe4-4bd1-f2d4-b0903807ea13",
        "colab": {
          "base_uri": "https://localhost:8080/"
        }
      },
      "outputs": [
        {
          "output_type": "stream",
          "name": "stderr",
          "text": [
            "/usr/local/lib/python3.9/dist-packages/sklearn/base.py:439: UserWarning: X does not have valid feature names, but RandomForestRegressor was fitted with feature names\n",
            "  warnings.warn(\n"
          ]
        },
        {
          "output_type": "execute_result",
          "data": {
            "text/plain": [
              "array([85.03810017])"
            ]
          },
          "metadata": {},
          "execution_count": 20
        }
      ],
      "source": [
        "rgr.predict([[1447.160034,78.470001,15.1800,1.471692]])"
      ]
    },
    {
      "cell_type": "markdown",
      "source": [
        "# **5.Create the Pickle File.** "
      ],
      "metadata": {
        "id": "YrxmyS6GDlB2"
      },
      "id": "YrxmyS6GDlB2"
    },
    {
      "cell_type": "code",
      "execution_count": 22,
      "id": "e6ca385a",
      "metadata": {
        "id": "e6ca385a"
      },
      "outputs": [],
      "source": [
        "#import the model\n",
        "import pickle\n",
        "pickle.dump(rgr,open(\"rgr.pkl\",\"wb\"))"
      ]
    },
    {
      "cell_type": "code",
      "execution_count": 23,
      "id": "901cd9ae",
      "metadata": {
        "id": "901cd9ae",
        "outputId": "730b341e-bc02-4270-9f2b-339fb1c13a21",
        "colab": {
          "base_uri": "https://localhost:8080/",
          "height": 74
        }
      },
      "outputs": [
        {
          "output_type": "execute_result",
          "data": {
            "text/plain": [
              "RandomForestRegressor()"
            ],
            "text/html": [
              "<style>#sk-container-id-2 {color: black;background-color: white;}#sk-container-id-2 pre{padding: 0;}#sk-container-id-2 div.sk-toggleable {background-color: white;}#sk-container-id-2 label.sk-toggleable__label {cursor: pointer;display: block;width: 100%;margin-bottom: 0;padding: 0.3em;box-sizing: border-box;text-align: center;}#sk-container-id-2 label.sk-toggleable__label-arrow:before {content: \"▸\";float: left;margin-right: 0.25em;color: #696969;}#sk-container-id-2 label.sk-toggleable__label-arrow:hover:before {color: black;}#sk-container-id-2 div.sk-estimator:hover label.sk-toggleable__label-arrow:before {color: black;}#sk-container-id-2 div.sk-toggleable__content {max-height: 0;max-width: 0;overflow: hidden;text-align: left;background-color: #f0f8ff;}#sk-container-id-2 div.sk-toggleable__content pre {margin: 0.2em;color: black;border-radius: 0.25em;background-color: #f0f8ff;}#sk-container-id-2 input.sk-toggleable__control:checked~div.sk-toggleable__content {max-height: 200px;max-width: 100%;overflow: auto;}#sk-container-id-2 input.sk-toggleable__control:checked~label.sk-toggleable__label-arrow:before {content: \"▾\";}#sk-container-id-2 div.sk-estimator input.sk-toggleable__control:checked~label.sk-toggleable__label {background-color: #d4ebff;}#sk-container-id-2 div.sk-label input.sk-toggleable__control:checked~label.sk-toggleable__label {background-color: #d4ebff;}#sk-container-id-2 input.sk-hidden--visually {border: 0;clip: rect(1px 1px 1px 1px);clip: rect(1px, 1px, 1px, 1px);height: 1px;margin: -1px;overflow: hidden;padding: 0;position: absolute;width: 1px;}#sk-container-id-2 div.sk-estimator {font-family: monospace;background-color: #f0f8ff;border: 1px dotted black;border-radius: 0.25em;box-sizing: border-box;margin-bottom: 0.5em;}#sk-container-id-2 div.sk-estimator:hover {background-color: #d4ebff;}#sk-container-id-2 div.sk-parallel-item::after {content: \"\";width: 100%;border-bottom: 1px solid gray;flex-grow: 1;}#sk-container-id-2 div.sk-label:hover label.sk-toggleable__label {background-color: #d4ebff;}#sk-container-id-2 div.sk-serial::before {content: \"\";position: absolute;border-left: 1px solid gray;box-sizing: border-box;top: 0;bottom: 0;left: 50%;z-index: 0;}#sk-container-id-2 div.sk-serial {display: flex;flex-direction: column;align-items: center;background-color: white;padding-right: 0.2em;padding-left: 0.2em;position: relative;}#sk-container-id-2 div.sk-item {position: relative;z-index: 1;}#sk-container-id-2 div.sk-parallel {display: flex;align-items: stretch;justify-content: center;background-color: white;position: relative;}#sk-container-id-2 div.sk-item::before, #sk-container-id-2 div.sk-parallel-item::before {content: \"\";position: absolute;border-left: 1px solid gray;box-sizing: border-box;top: 0;bottom: 0;left: 50%;z-index: -1;}#sk-container-id-2 div.sk-parallel-item {display: flex;flex-direction: column;z-index: 1;position: relative;background-color: white;}#sk-container-id-2 div.sk-parallel-item:first-child::after {align-self: flex-end;width: 50%;}#sk-container-id-2 div.sk-parallel-item:last-child::after {align-self: flex-start;width: 50%;}#sk-container-id-2 div.sk-parallel-item:only-child::after {width: 0;}#sk-container-id-2 div.sk-dashed-wrapped {border: 1px dashed gray;margin: 0 0.4em 0.5em 0.4em;box-sizing: border-box;padding-bottom: 0.4em;background-color: white;}#sk-container-id-2 div.sk-label label {font-family: monospace;font-weight: bold;display: inline-block;line-height: 1.2em;}#sk-container-id-2 div.sk-label-container {text-align: center;}#sk-container-id-2 div.sk-container {/* jupyter's `normalize.less` sets `[hidden] { display: none; }` but bootstrap.min.css set `[hidden] { display: none !important; }` so we also need the `!important` here to be able to override the default hidden behavior on the sphinx rendered scikit-learn.org. See: https://github.com/scikit-learn/scikit-learn/issues/21755 */display: inline-block !important;position: relative;}#sk-container-id-2 div.sk-text-repr-fallback {display: none;}</style><div id=\"sk-container-id-2\" class=\"sk-top-container\"><div class=\"sk-text-repr-fallback\"><pre>RandomForestRegressor()</pre><b>In a Jupyter environment, please rerun this cell to show the HTML representation or trust the notebook. <br />On GitHub, the HTML representation is unable to render, please try loading this page with nbviewer.org.</b></div><div class=\"sk-container\" hidden><div class=\"sk-item\"><div class=\"sk-estimator sk-toggleable\"><input class=\"sk-toggleable__control sk-hidden--visually\" id=\"sk-estimator-id-2\" type=\"checkbox\" checked><label for=\"sk-estimator-id-2\" class=\"sk-toggleable__label sk-toggleable__label-arrow\">RandomForestRegressor</label><div class=\"sk-toggleable__content\"><pre>RandomForestRegressor()</pre></div></div></div></div></div>"
            ]
          },
          "metadata": {},
          "execution_count": 23
        }
      ],
      "source": [
        "model = pickle.load(open(\"rgr.pkl\",\"rb\"))\n",
        "model"
      ]
    },
    {
      "cell_type": "code",
      "execution_count": 24,
      "id": "be211845",
      "metadata": {
        "id": "be211845",
        "outputId": "2b9a0830-0fe9-43cb-e3df-6c2d8be41b20",
        "colab": {
          "base_uri": "https://localhost:8080/"
        }
      },
      "outputs": [
        {
          "output_type": "stream",
          "name": "stderr",
          "text": [
            "/usr/local/lib/python3.9/dist-packages/sklearn/base.py:439: UserWarning: X does not have valid feature names, but RandomForestRegressor was fitted with feature names\n",
            "  warnings.warn(\n"
          ]
        },
        {
          "output_type": "execute_result",
          "data": {
            "text/plain": [
              "array([85.03810017])"
            ]
          },
          "metadata": {},
          "execution_count": 24
        }
      ],
      "source": [
        "rgr.predict([[1447.160034,78.470001,15.1800,1.471692]])"
      ]
    },
    {
      "cell_type": "code",
      "execution_count": null,
      "id": "c0f19ce7",
      "metadata": {
        "id": "c0f19ce7"
      },
      "outputs": [],
      "source": []
    },
    {
      "cell_type": "code",
      "execution_count": null,
      "id": "88c31cf5",
      "metadata": {
        "id": "88c31cf5"
      },
      "outputs": [],
      "source": []
    }
  ],
  "metadata": {
    "kernelspec": {
      "display_name": "Python 3 (ipykernel)",
      "language": "python",
      "name": "python3"
    },
    "language_info": {
      "codemirror_mode": {
        "name": "ipython",
        "version": 3
      },
      "file_extension": ".py",
      "mimetype": "text/x-python",
      "name": "python",
      "nbconvert_exporter": "python",
      "pygments_lexer": "ipython3",
      "version": "3.9.13"
    },
    "colab": {
      "provenance": []
    }
  },
  "nbformat": 4,
  "nbformat_minor": 5
}